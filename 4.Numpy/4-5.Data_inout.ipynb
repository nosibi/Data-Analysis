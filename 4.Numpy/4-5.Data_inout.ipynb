{
 "cells": [
  {
   "cell_type": "markdown",
   "metadata": {},
   "source": [
    "# 4.5 배열 데이터의 파일 입출력"
   ]
  },
  {
   "cell_type": "markdown",
   "metadata": {},
   "source": [
    "numpy.save, numpy.load 함수\n",
    "\n",
    "기본적으로 압축되지 않은 원시 바이너리 형식의 .npy 파일로 저장, 호출"
   ]
  },
  {
   "cell_type": "code",
   "execution_count": 1,
   "metadata": {},
   "outputs": [],
   "source": [
    "import numpy as np"
   ]
  },
  {
   "cell_type": "code",
   "execution_count": 2,
   "metadata": {},
   "outputs": [],
   "source": [
    "arrnp = np.arange(10)\n",
    "np.save(\"some_array\", arrnp) # 저장되는 파일경로가 .npy로 끝나지 않으면 자동적으로 확장자 추가 np.save(파일명, 저장할 배열)"
   ]
  },
  {
   "cell_type": "code",
   "execution_count": 3,
   "metadata": {},
   "outputs": [
    {
     "data": {
      "text/plain": [
       "array([0, 1, 2, 3, 4, 5, 6, 7, 8, 9])"
      ]
     },
     "execution_count": 3,
     "metadata": {},
     "output_type": "execute_result"
    }
   ],
   "source": [
    "np.load(\"some_array.npy\")"
   ]
  },
  {
   "cell_type": "code",
   "execution_count": 4,
   "metadata": {},
   "outputs": [
    {
     "data": {
      "text/plain": [
       "array([10, 12, 14, 16, 18])"
      ]
     },
     "execution_count": 4,
     "metadata": {},
     "output_type": "execute_result"
    }
   ],
   "source": [
    "arr1 = np.arange(20)\n",
    "arr2 = np.arange(10,20,2)\n",
    "\n",
    "# 여러 개의 배열을 압축된 형식으로 저장\n",
    "np.savez(\"arr_array.npz\", a = arr1, b = arr2)\n",
    "# .npz 파일을 불러올 경우 각 배열을 필요할 때 불러올 수 있도록 dictionary 형식의 객체에 저장\n",
    "\n",
    "loadnp = np.load(\"arr_array.npz\")\n",
    "loadnp[\"b\"] # key가 b인 배열 호출"
   ]
  }
 ],
 "metadata": {
  "kernelspec": {
   "display_name": "base",
   "language": "python",
   "name": "python3"
  },
  "language_info": {
   "codemirror_mode": {
    "name": "ipython",
    "version": 3
   },
   "file_extension": ".py",
   "mimetype": "text/x-python",
   "name": "python",
   "nbconvert_exporter": "python",
   "pygments_lexer": "ipython3",
   "version": "3.10.9"
  },
  "orig_nbformat": 4
 },
 "nbformat": 4,
 "nbformat_minor": 2
}
